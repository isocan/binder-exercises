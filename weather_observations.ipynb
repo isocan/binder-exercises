{
 "cells": [
  {
   "cell_type": "code",
   "execution_count": 1,
   "metadata": {},
   "outputs": [],
   "source": [
    "import pandas as pd\n",
    "\n",
    "url = \"https://raw.githubusercontent.com/AaltoSciComp/python-for-scicomp/master/resources/data/scripts/weather_tapiola.csv\"\n",
    "weather = pd.read_csv(url,comment='#')\n",
    "\n",
    "# define the start and end time for the plot \n",
    "start_date=pd.to_datetime('01/06/2021',dayfirst=True)\n",
    "end_date=pd.to_datetime('01/10/2021',dayfirst=True)\n",
    "\n",
    "# The date format in the file is in a day-first format, which matplotlib does nto understand.\n",
    "# so we need to convert it.\n",
    "weather['Local time'] = pd.to_datetime(weather['Local time'],dayfirst=True)\n",
    "# select the data\n",
    "weather = weather[weather['Local time'].between(start_date,end_date)]\n"
   ]
  },
  {
   "cell_type": "markdown",
   "metadata": {},
   "source": [
    "Now, we have the data loaded, and adapted to our needs. So lets get plotting"
   ]
  },
  {
   "cell_type": "code",
   "execution_count": null,
   "metadata": {
    "tags": []
   },
   "outputs": [],
   "source": [
    "import matplotlib.pyplot as plt\n",
    "# start the figure.\n",
    "fig, ax = plt.subplots()\n",
    "ax.plot(weather['Local time'], weather['T'])\n",
    "# label the axes\n",
    "ax.set_xlabel(\"Date of observation\")\n",
    "ax.set_ylabel(\"Temperature in Celsius\")\n",
    "ax.set_title(\"Temperature Observations\")\n",
    "# adjust the date labels, so that they look nicer\n",
    "fig.autofmt_xdate()\n",
    "# save the figure\n",
    "fig.savefig('weather.png')"
   ]
  },
  {
   "cell_type": "code",
   "execution_count": null,
   "metadata": {},
   "outputs": [],
   "source": []
  }
 ],
 "metadata": {
  "kernelspec": {
   "display_name": "Python 3",
   "language": "python",
   "name": "python3"
  },
  "language_info": {
   "codemirror_mode": {
    "name": "ipython",
    "version": 3
   },
   "file_extension": ".py",
   "mimetype": "text/x-python",
   "name": "python",
   "nbconvert_exporter": "python",
   "pygments_lexer": "ipython3",
   "version": "3.8.3"
  }
 },
 "nbformat": 4,
 "nbformat_minor": 4
}
